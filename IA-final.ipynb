{
 "cells": [
  {
   "cell_type": "markdown",
   "metadata": {},
   "source": []
  },
  {
   "cell_type": "markdown",
   "metadata": {},
   "source": [
    "# Predição de Pulsares #"
   ]
  },
  {
   "cell_type": "markdown",
   "metadata": {},
   "source": [
    "Pulsares são estrelas de nêutros de um tipo específico, que emitem ondas de rádio detectáveis na Terra. \n",
    "\n",
    "São de alto interesse científico como provas de espaço-tempo, meio inter-estelar e estados da matéria."
   ]
  },
  {
   "cell_type": "markdown",
   "metadata": {},
   "source": [
    "## Base de dados ##"
   ]
  },
  {
   "cell_type": "markdown",
   "metadata": {},
   "source": [
    "A base de dados foi selecionada através do site kaggle (https://www.kaggle.com/pavanraj159/predicting-a-pulsar-star) e as seguintes bibliotecas foram usadas para a geração de gráficos e visualização de dados:"
   ]
  },
  {
   "cell_type": "code",
   "execution_count": 1,
   "metadata": {},
   "outputs": [],
   "source": [
    "from matplotlib import pyplot as plt\n",
    "from matplotlib import cm\n",
    "import numpy as np\n",
    "import pandas as pd\n",
    "import seaborn as sns\n",
    "import io"
   ]
  },
  {
   "cell_type": "markdown",
   "metadata": {},
   "source": [
    "A base de dados se apresenta da seguinte forma:"
   ]
  },
  {
   "cell_type": "code",
   "execution_count": 2,
   "metadata": {},
   "outputs": [
    {
     "data": {
      "text/html": [
       "<div>\n",
       "<style scoped>\n",
       "    .dataframe tbody tr th:only-of-type {\n",
       "        vertical-align: middle;\n",
       "    }\n",
       "\n",
       "    .dataframe tbody tr th {\n",
       "        vertical-align: top;\n",
       "    }\n",
       "\n",
       "    .dataframe thead th {\n",
       "        text-align: right;\n",
       "    }\n",
       "</style>\n",
       "<table border=\"1\" class=\"dataframe\">\n",
       "  <thead>\n",
       "    <tr style=\"text-align: right;\">\n",
       "      <th></th>\n",
       "      <th>Mean of the integrated profile</th>\n",
       "      <th>Standard deviation of the integrated profile</th>\n",
       "      <th>Excess kurtosis of the integrated profile</th>\n",
       "      <th>Skewness of the integrated profile</th>\n",
       "      <th>Mean of the DM-SNR curve</th>\n",
       "      <th>Standard deviation of the DM-SNR curve</th>\n",
       "      <th>Excess kurtosis of the DM-SNR curve</th>\n",
       "      <th>Skewness of the DM-SNR curve</th>\n",
       "      <th>target_class</th>\n",
       "    </tr>\n",
       "  </thead>\n",
       "  <tbody>\n",
       "    <tr>\n",
       "      <th>0</th>\n",
       "      <td>140.562500</td>\n",
       "      <td>55.683782</td>\n",
       "      <td>-0.234571</td>\n",
       "      <td>-0.699648</td>\n",
       "      <td>3.199833</td>\n",
       "      <td>19.110426</td>\n",
       "      <td>7.975532</td>\n",
       "      <td>74.242225</td>\n",
       "      <td>0</td>\n",
       "    </tr>\n",
       "    <tr>\n",
       "      <th>1</th>\n",
       "      <td>102.507812</td>\n",
       "      <td>58.882430</td>\n",
       "      <td>0.465318</td>\n",
       "      <td>-0.515088</td>\n",
       "      <td>1.677258</td>\n",
       "      <td>14.860146</td>\n",
       "      <td>10.576487</td>\n",
       "      <td>127.393580</td>\n",
       "      <td>0</td>\n",
       "    </tr>\n",
       "    <tr>\n",
       "      <th>2</th>\n",
       "      <td>103.015625</td>\n",
       "      <td>39.341649</td>\n",
       "      <td>0.323328</td>\n",
       "      <td>1.051164</td>\n",
       "      <td>3.121237</td>\n",
       "      <td>21.744669</td>\n",
       "      <td>7.735822</td>\n",
       "      <td>63.171909</td>\n",
       "      <td>0</td>\n",
       "    </tr>\n",
       "    <tr>\n",
       "      <th>3</th>\n",
       "      <td>136.750000</td>\n",
       "      <td>57.178449</td>\n",
       "      <td>-0.068415</td>\n",
       "      <td>-0.636238</td>\n",
       "      <td>3.642977</td>\n",
       "      <td>20.959280</td>\n",
       "      <td>6.896499</td>\n",
       "      <td>53.593661</td>\n",
       "      <td>0</td>\n",
       "    </tr>\n",
       "    <tr>\n",
       "      <th>4</th>\n",
       "      <td>88.726562</td>\n",
       "      <td>40.672225</td>\n",
       "      <td>0.600866</td>\n",
       "      <td>1.123492</td>\n",
       "      <td>1.178930</td>\n",
       "      <td>11.468720</td>\n",
       "      <td>14.269573</td>\n",
       "      <td>252.567306</td>\n",
       "      <td>0</td>\n",
       "    </tr>\n",
       "  </tbody>\n",
       "</table>\n",
       "</div>"
      ],
      "text/plain": [
       "    Mean of the integrated profile  \\\n",
       "0                       140.562500   \n",
       "1                       102.507812   \n",
       "2                       103.015625   \n",
       "3                       136.750000   \n",
       "4                        88.726562   \n",
       "\n",
       "    Standard deviation of the integrated profile  \\\n",
       "0                                      55.683782   \n",
       "1                                      58.882430   \n",
       "2                                      39.341649   \n",
       "3                                      57.178449   \n",
       "4                                      40.672225   \n",
       "\n",
       "    Excess kurtosis of the integrated profile  \\\n",
       "0                                   -0.234571   \n",
       "1                                    0.465318   \n",
       "2                                    0.323328   \n",
       "3                                   -0.068415   \n",
       "4                                    0.600866   \n",
       "\n",
       "    Skewness of the integrated profile   Mean of the DM-SNR curve  \\\n",
       "0                            -0.699648                   3.199833   \n",
       "1                            -0.515088                   1.677258   \n",
       "2                             1.051164                   3.121237   \n",
       "3                            -0.636238                   3.642977   \n",
       "4                             1.123492                   1.178930   \n",
       "\n",
       "    Standard deviation of the DM-SNR curve  \\\n",
       "0                                19.110426   \n",
       "1                                14.860146   \n",
       "2                                21.744669   \n",
       "3                                20.959280   \n",
       "4                                11.468720   \n",
       "\n",
       "    Excess kurtosis of the DM-SNR curve   Skewness of the DM-SNR curve  \\\n",
       "0                              7.975532                      74.242225   \n",
       "1                             10.576487                     127.393580   \n",
       "2                              7.735822                      63.171909   \n",
       "3                              6.896499                      53.593661   \n",
       "4                             14.269573                     252.567306   \n",
       "\n",
       "   target_class  \n",
       "0             0  \n",
       "1             0  \n",
       "2             0  \n",
       "3             0  \n",
       "4             0  "
      ]
     },
     "execution_count": 2,
     "metadata": {},
     "output_type": "execute_result"
    }
   ],
   "source": [
    "df = pd.read_csv(\"pulsar_stars.csv\")\n",
    "df.head()"
   ]
  },
  {
   "cell_type": "markdown",
   "metadata": {},
   "source": [
    "No total, são 17898 registros, onde a coluna target_class corresponde ao fato de ser ou não Pulsar e assume os valores 1 para sim e 0 para não. A proporção das duas classes é:"
   ]
  },
  {
   "cell_type": "code",
   "execution_count": 3,
   "metadata": {
    "scrolled": true
   },
   "outputs": [
    {
     "data": {
      "image/png": "[encoded data removed]",
      "text/plain": [
       "<Figure size 432x288 with 1 Axes>"
      ]
     },
     "metadata": {},
     "output_type": "display_data"
    }
   ],
   "source": [
    "values = df.groupby([\"target_class\"]).size()\n",
    "labels = \"Pulsar\", \"Non-pulsar\"\n",
    "sizes = values.iloc[1], values.iloc[0]\n",
    "\n",
    "cs = [\"burlywood\", \"royalblue\"]\n",
    "\n",
    "fig1, ax1 = plt.subplots()\n",
    "ax1.pie(sizes, labels=labels, autopct='%1.1f%%', colors=cs)\n",
    "ax1.axis('equal')  # Equal aspect ratio ensures that pie is drawn as a circle.\n",
    "\n",
    "plt.show()"
   ]
  },
  {
   "cell_type": "markdown",
   "metadata": {},
   "source": [
    "## IA para predição ##"
   ]
  },
  {
   "cell_type": "markdown",
   "metadata": {},
   "source": [
    "**Conjunto de testes:** subconjunto da base de dados, respeitando a proporcionalidade das classes </br>\n",
    "\n",
    "**Algoritmos:** k-NN, Árvore de decisão, SVM, Rede Neural\n",
    "\n",
    "**Bibliotecas:** a bilbioteca utilizada para os algoritmos de IA foi a scikit-learn\n",
    "\n",
    "\n",
    "*observação:* todos os métodos de aprendizado foram supervisionados"
   ]
  },
  {
   "cell_type": "code",
   "execution_count": 22,
   "metadata": {},
   "outputs": [],
   "source": [
    "from sklearn import model_selection\n",
    "\n",
    "from sklearn.neighbors import KNeighborsClassifier\n",
    "from sklearn.tree import DecisionTreeClassifier\n",
    "from sklearn.svm import LinearSVC\n",
    "from sklearn.neural_network import MLPClassifier"
   ]
  },
  {
   "cell_type": "markdown",
   "metadata": {},
   "source": [
    "## Aplicação dos métodos ##"
   ]
  },
  {
   "cell_type": "markdown",
   "metadata": {},
   "source": [
    "### k-NN ###"
   ]
  },
  {
   "cell_type": "markdown",
   "metadata": {},
   "source": [
    "Conjunto de treinamento:"
   ]
  },
  {
   "cell_type": "code",
   "execution_count": 5,
   "metadata": {},
   "outputs": [
    {
     "data": {
      "text/html": [
       "<div>\n",
       "<style scoped>\n",
       "    .dataframe tbody tr th:only-of-type {\n",
       "        vertical-align: middle;\n",
       "    }\n",
       "\n",
       "    .dataframe tbody tr th {\n",
       "        vertical-align: top;\n",
       "    }\n",
       "\n",
       "    .dataframe thead th {\n",
       "        text-align: right;\n",
       "    }\n",
       "</style>\n",
       "<table border=\"1\" class=\"dataframe\">\n",
       "  <thead>\n",
       "    <tr style=\"text-align: right;\">\n",
       "      <th></th>\n",
       "      <th>Mean of the integrated profile</th>\n",
       "      <th>Standard deviation of the integrated profile</th>\n",
       "      <th>Excess kurtosis of the integrated profile</th>\n",
       "      <th>Skewness of the integrated profile</th>\n",
       "      <th>Mean of the DM-SNR curve</th>\n",
       "      <th>Standard deviation of the DM-SNR curve</th>\n",
       "      <th>Excess kurtosis of the DM-SNR curve</th>\n",
       "      <th>Skewness of the DM-SNR curve</th>\n",
       "      <th>target_class</th>\n",
       "    </tr>\n",
       "  </thead>\n",
       "  <tbody>\n",
       "    <tr>\n",
       "      <th>9775</th>\n",
       "      <td>120.226562</td>\n",
       "      <td>35.543814</td>\n",
       "      <td>0.174417</td>\n",
       "      <td>1.667267</td>\n",
       "      <td>3.182274</td>\n",
       "      <td>16.570925</td>\n",
       "      <td>7.637293</td>\n",
       "      <td>77.097014</td>\n",
       "      <td>0</td>\n",
       "    </tr>\n",
       "    <tr>\n",
       "      <th>24</th>\n",
       "      <td>106.648438</td>\n",
       "      <td>56.367182</td>\n",
       "      <td>0.378355</td>\n",
       "      <td>-0.266372</td>\n",
       "      <td>2.436455</td>\n",
       "      <td>18.405371</td>\n",
       "      <td>9.378660</td>\n",
       "      <td>96.860225</td>\n",
       "      <td>0</td>\n",
       "    </tr>\n",
       "    <tr>\n",
       "      <th>10002</th>\n",
       "      <td>137.265625</td>\n",
       "      <td>53.037057</td>\n",
       "      <td>-0.201553</td>\n",
       "      <td>-0.409392</td>\n",
       "      <td>4.176421</td>\n",
       "      <td>24.547813</td>\n",
       "      <td>6.479356</td>\n",
       "      <td>43.928392</td>\n",
       "      <td>0</td>\n",
       "    </tr>\n",
       "    <tr>\n",
       "      <th>14535</th>\n",
       "      <td>122.804688</td>\n",
       "      <td>54.446513</td>\n",
       "      <td>0.041803</td>\n",
       "      <td>-0.260637</td>\n",
       "      <td>2.496656</td>\n",
       "      <td>15.700345</td>\n",
       "      <td>9.323476</td>\n",
       "      <td>105.922860</td>\n",
       "      <td>0</td>\n",
       "    </tr>\n",
       "    <tr>\n",
       "      <th>10393</th>\n",
       "      <td>90.039062</td>\n",
       "      <td>45.378685</td>\n",
       "      <td>0.398258</td>\n",
       "      <td>0.142018</td>\n",
       "      <td>2.050167</td>\n",
       "      <td>15.932996</td>\n",
       "      <td>10.288998</td>\n",
       "      <td>121.367792</td>\n",
       "      <td>0</td>\n",
       "    </tr>\n",
       "  </tbody>\n",
       "</table>\n",
       "</div>"
      ],
      "text/plain": [
       "        Mean of the integrated profile  \\\n",
       "9775                        120.226562   \n",
       "24                          106.648438   \n",
       "10002                       137.265625   \n",
       "14535                       122.804688   \n",
       "10393                        90.039062   \n",
       "\n",
       "        Standard deviation of the integrated profile  \\\n",
       "9775                                       35.543814   \n",
       "24                                         56.367182   \n",
       "10002                                      53.037057   \n",
       "14535                                      54.446513   \n",
       "10393                                      45.378685   \n",
       "\n",
       "        Excess kurtosis of the integrated profile  \\\n",
       "9775                                     0.174417   \n",
       "24                                       0.378355   \n",
       "10002                                   -0.201553   \n",
       "14535                                    0.041803   \n",
       "10393                                    0.398258   \n",
       "\n",
       "        Skewness of the integrated profile   Mean of the DM-SNR curve  \\\n",
       "9775                              1.667267                   3.182274   \n",
       "24                               -0.266372                   2.436455   \n",
       "10002                            -0.409392                   4.176421   \n",
       "14535                            -0.260637                   2.496656   \n",
       "10393                             0.142018                   2.050167   \n",
       "\n",
       "        Standard deviation of the DM-SNR curve  \\\n",
       "9775                                 16.570925   \n",
       "24                                   18.405371   \n",
       "10002                                24.547813   \n",
       "14535                                15.700345   \n",
       "10393                                15.932996   \n",
       "\n",
       "        Excess kurtosis of the DM-SNR curve   Skewness of the DM-SNR curve  \\\n",
       "9775                               7.637293                      77.097014   \n",
       "24                                 9.378660                      96.860225   \n",
       "10002                              6.479356                      43.928392   \n",
       "14535                              9.323476                     105.922860   \n",
       "10393                             10.288998                     121.367792   \n",
       "\n",
       "       target_class  \n",
       "9775              0  \n",
       "24                0  \n",
       "10002             0  \n",
       "14535             0  \n",
       "10393             0  "
      ]
     },
     "execution_count": 5,
     "metadata": {},
     "output_type": "execute_result"
    }
   ],
   "source": [
    "train, test_comparative = model_selection.train_test_split(df)\n",
    "train.head()"
   ]
  },
  {
   "cell_type": "markdown",
   "metadata": {},
   "source": [
    "Conjunto de teste (25% do tamanho do conjunto original):"
   ]
  },
  {
   "cell_type": "code",
   "execution_count": 6,
   "metadata": {},
   "outputs": [
    {
     "data": {
      "text/html": [
       "<div>\n",
       "<style scoped>\n",
       "    .dataframe tbody tr th:only-of-type {\n",
       "        vertical-align: middle;\n",
       "    }\n",
       "\n",
       "    .dataframe tbody tr th {\n",
       "        vertical-align: top;\n",
       "    }\n",
       "\n",
       "    .dataframe thead th {\n",
       "        text-align: right;\n",
       "    }\n",
       "</style>\n",
       "<table border=\"1\" class=\"dataframe\">\n",
       "  <thead>\n",
       "    <tr style=\"text-align: right;\">\n",
       "      <th></th>\n",
       "      <th>Mean of the integrated profile</th>\n",
       "      <th>Standard deviation of the integrated profile</th>\n",
       "      <th>Excess kurtosis of the integrated profile</th>\n",
       "      <th>Skewness of the integrated profile</th>\n",
       "      <th>Mean of the DM-SNR curve</th>\n",
       "      <th>Standard deviation of the DM-SNR curve</th>\n",
       "      <th>Excess kurtosis of the DM-SNR curve</th>\n",
       "      <th>Skewness of the DM-SNR curve</th>\n",
       "      <th>target_class</th>\n",
       "    </tr>\n",
       "  </thead>\n",
       "  <tbody>\n",
       "    <tr>\n",
       "      <th>9686</th>\n",
       "      <td>131.007812</td>\n",
       "      <td>55.746146</td>\n",
       "      <td>-0.006112</td>\n",
       "      <td>-0.579012</td>\n",
       "      <td>2.282609</td>\n",
       "      <td>14.263774</td>\n",
       "      <td>10.212652</td>\n",
       "      <td>136.689323</td>\n",
       "      <td>0</td>\n",
       "    </tr>\n",
       "    <tr>\n",
       "      <th>16183</th>\n",
       "      <td>97.937500</td>\n",
       "      <td>47.866146</td>\n",
       "      <td>0.356712</td>\n",
       "      <td>0.386263</td>\n",
       "      <td>0.444816</td>\n",
       "      <td>8.578350</td>\n",
       "      <td>24.956884</td>\n",
       "      <td>684.395506</td>\n",
       "      <td>0</td>\n",
       "    </tr>\n",
       "    <tr>\n",
       "      <th>155</th>\n",
       "      <td>107.406250</td>\n",
       "      <td>58.504866</td>\n",
       "      <td>0.100292</td>\n",
       "      <td>-0.900060</td>\n",
       "      <td>18.459030</td>\n",
       "      <td>53.857152</td>\n",
       "      <td>2.794208</td>\n",
       "      <td>6.361790</td>\n",
       "      <td>0</td>\n",
       "    </tr>\n",
       "    <tr>\n",
       "      <th>10243</th>\n",
       "      <td>85.414062</td>\n",
       "      <td>37.733549</td>\n",
       "      <td>0.677919</td>\n",
       "      <td>2.107364</td>\n",
       "      <td>3.666388</td>\n",
       "      <td>25.518009</td>\n",
       "      <td>7.676341</td>\n",
       "      <td>60.815861</td>\n",
       "      <td>0</td>\n",
       "    </tr>\n",
       "    <tr>\n",
       "      <th>2582</th>\n",
       "      <td>151.609375</td>\n",
       "      <td>50.195280</td>\n",
       "      <td>-0.352966</td>\n",
       "      <td>-0.268634</td>\n",
       "      <td>5.915552</td>\n",
       "      <td>30.190594</td>\n",
       "      <td>5.836690</td>\n",
       "      <td>34.974964</td>\n",
       "      <td>0</td>\n",
       "    </tr>\n",
       "  </tbody>\n",
       "</table>\n",
       "</div>"
      ],
      "text/plain": [
       "        Mean of the integrated profile  \\\n",
       "9686                        131.007812   \n",
       "16183                        97.937500   \n",
       "155                         107.406250   \n",
       "10243                        85.414062   \n",
       "2582                        151.609375   \n",
       "\n",
       "        Standard deviation of the integrated profile  \\\n",
       "9686                                       55.746146   \n",
       "16183                                      47.866146   \n",
       "155                                        58.504866   \n",
       "10243                                      37.733549   \n",
       "2582                                       50.195280   \n",
       "\n",
       "        Excess kurtosis of the integrated profile  \\\n",
       "9686                                    -0.006112   \n",
       "16183                                    0.356712   \n",
       "155                                      0.100292   \n",
       "10243                                    0.677919   \n",
       "2582                                    -0.352966   \n",
       "\n",
       "        Skewness of the integrated profile   Mean of the DM-SNR curve  \\\n",
       "9686                             -0.579012                   2.282609   \n",
       "16183                             0.386263                   0.444816   \n",
       "155                              -0.900060                  18.459030   \n",
       "10243                             2.107364                   3.666388   \n",
       "2582                             -0.268634                   5.915552   \n",
       "\n",
       "        Standard deviation of the DM-SNR curve  \\\n",
       "9686                                 14.263774   \n",
       "16183                                 8.578350   \n",
       "155                                  53.857152   \n",
       "10243                                25.518009   \n",
       "2582                                 30.190594   \n",
       "\n",
       "        Excess kurtosis of the DM-SNR curve   Skewness of the DM-SNR curve  \\\n",
       "9686                              10.212652                     136.689323   \n",
       "16183                             24.956884                     684.395506   \n",
       "155                                2.794208                       6.361790   \n",
       "10243                              7.676341                      60.815861   \n",
       "2582                               5.836690                      34.974964   \n",
       "\n",
       "       target_class  \n",
       "9686              0  \n",
       "16183             0  \n",
       "155               0  \n",
       "10243             0  \n",
       "2582              0  "
      ]
     },
     "execution_count": 6,
     "metadata": {},
     "output_type": "execute_result"
    }
   ],
   "source": [
    "test_comparative.head()"
   ]
  },
  {
   "cell_type": "markdown",
   "metadata": {},
   "source": [
    "Conjunto de teste sem rótulo:"
   ]
  },
  {
   "cell_type": "code",
   "execution_count": 7,
   "metadata": {},
   "outputs": [
    {
     "data": {
      "text/html": [
       "<div>\n",
       "<style scoped>\n",
       "    .dataframe tbody tr th:only-of-type {\n",
       "        vertical-align: middle;\n",
       "    }\n",
       "\n",
       "    .dataframe tbody tr th {\n",
       "        vertical-align: top;\n",
       "    }\n",
       "\n",
       "    .dataframe thead th {\n",
       "        text-align: right;\n",
       "    }\n",
       "</style>\n",
       "<table border=\"1\" class=\"dataframe\">\n",
       "  <thead>\n",
       "    <tr style=\"text-align: right;\">\n",
       "      <th></th>\n",
       "      <th>Mean of the integrated profile</th>\n",
       "      <th>Standard deviation of the integrated profile</th>\n",
       "      <th>Excess kurtosis of the integrated profile</th>\n",
       "      <th>Skewness of the integrated profile</th>\n",
       "      <th>Mean of the DM-SNR curve</th>\n",
       "      <th>Standard deviation of the DM-SNR curve</th>\n",
       "      <th>Excess kurtosis of the DM-SNR curve</th>\n",
       "    </tr>\n",
       "  </thead>\n",
       "  <tbody>\n",
       "    <tr>\n",
       "      <th>9686</th>\n",
       "      <td>131.007812</td>\n",
       "      <td>55.746146</td>\n",
       "      <td>-0.006112</td>\n",
       "      <td>-0.579012</td>\n",
       "      <td>2.282609</td>\n",
       "      <td>14.263774</td>\n",
       "      <td>10.212652</td>\n",
       "    </tr>\n",
       "    <tr>\n",
       "      <th>16183</th>\n",
       "      <td>97.937500</td>\n",
       "      <td>47.866146</td>\n",
       "      <td>0.356712</td>\n",
       "      <td>0.386263</td>\n",
       "      <td>0.444816</td>\n",
       "      <td>8.578350</td>\n",
       "      <td>24.956884</td>\n",
       "    </tr>\n",
       "    <tr>\n",
       "      <th>155</th>\n",
       "      <td>107.406250</td>\n",
       "      <td>58.504866</td>\n",
       "      <td>0.100292</td>\n",
       "      <td>-0.900060</td>\n",
       "      <td>18.459030</td>\n",
       "      <td>53.857152</td>\n",
       "      <td>2.794208</td>\n",
       "    </tr>\n",
       "    <tr>\n",
       "      <th>10243</th>\n",
       "      <td>85.414062</td>\n",
       "      <td>37.733549</td>\n",
       "      <td>0.677919</td>\n",
       "      <td>2.107364</td>\n",
       "      <td>3.666388</td>\n",
       "      <td>25.518009</td>\n",
       "      <td>7.676341</td>\n",
       "    </tr>\n",
       "    <tr>\n",
       "      <th>2582</th>\n",
       "      <td>151.609375</td>\n",
       "      <td>50.195280</td>\n",
       "      <td>-0.352966</td>\n",
       "      <td>-0.268634</td>\n",
       "      <td>5.915552</td>\n",
       "      <td>30.190594</td>\n",
       "      <td>5.836690</td>\n",
       "    </tr>\n",
       "  </tbody>\n",
       "</table>\n",
       "</div>"
      ],
      "text/plain": [
       "        Mean of the integrated profile  \\\n",
       "9686                        131.007812   \n",
       "16183                        97.937500   \n",
       "155                         107.406250   \n",
       "10243                        85.414062   \n",
       "2582                        151.609375   \n",
       "\n",
       "        Standard deviation of the integrated profile  \\\n",
       "9686                                       55.746146   \n",
       "16183                                      47.866146   \n",
       "155                                        58.504866   \n",
       "10243                                      37.733549   \n",
       "2582                                       50.195280   \n",
       "\n",
       "        Excess kurtosis of the integrated profile  \\\n",
       "9686                                    -0.006112   \n",
       "16183                                    0.356712   \n",
       "155                                      0.100292   \n",
       "10243                                    0.677919   \n",
       "2582                                    -0.352966   \n",
       "\n",
       "        Skewness of the integrated profile   Mean of the DM-SNR curve  \\\n",
       "9686                             -0.579012                   2.282609   \n",
       "16183                             0.386263                   0.444816   \n",
       "155                              -0.900060                  18.459030   \n",
       "10243                             2.107364                   3.666388   \n",
       "2582                             -0.268634                   5.915552   \n",
       "\n",
       "        Standard deviation of the DM-SNR curve  \\\n",
       "9686                                 14.263774   \n",
       "16183                                 8.578350   \n",
       "155                                  53.857152   \n",
       "10243                                25.518009   \n",
       "2582                                 30.190594   \n",
       "\n",
       "        Excess kurtosis of the DM-SNR curve  \n",
       "9686                              10.212652  \n",
       "16183                             24.956884  \n",
       "155                                2.794208  \n",
       "10243                              7.676341  \n",
       "2582                               5.836690  "
      ]
     },
     "execution_count": 7,
     "metadata": {},
     "output_type": "execute_result"
    }
   ],
   "source": [
    "test = test_comparative.iloc[:, 0:7]\n",
    "test.head()"
   ]
  },
  {
   "cell_type": "markdown",
   "metadata": {},
   "source": [
    "Resultados:"
   ]
  },
  {
   "cell_type": "code",
   "execution_count": 30,
   "metadata": {
    "scrolled": true
   },
   "outputs": [
    {
     "name": "stdout",
     "output_type": "stream",
     "text": [
      "Correct:  4345\n",
      "False Positives:  28\n",
      "False Negatives:  102\n"
     ]
    },
    {
     "data": {
      "image/png": "[encoded data removed]",
      "text/plain": [
       "<Figure size 432x288 with 1 Axes>"
      ]
     },
     "metadata": {},
     "output_type": "display_data"
    }
   ],
   "source": [
    "knn = KNeighborsClassifier(n_neighbors = 5)\n",
    "knn.fit(train.iloc[:,0:7], train.iloc[:, 8])\n",
    "results = knn.predict(test).tolist()\n",
    "\n",
    "false_positives=0\n",
    "false_negatives=0\n",
    "correct=0\n",
    "\n",
    "for i in range(len(results)):\n",
    "    if(results[i] == test_comparative.iloc[i, 8]):\n",
    "        correct += 1\n",
    "    elif(results[i] > test_comparative.iloc[i,8]):\n",
    "        false_positives += 1\n",
    "    else:\n",
    "        false_negatives += 1\n",
    "        \n",
    "dataorg = \"Correct, \" + str(correct) + \"\\nFalse Positives, \" + str(false_positives) + \"\\nFalse Negatives,\" + str(false_negatives)\n",
    "\n",
    "knndata = pd.read_csv(io.StringIO(dataorg), header=None)\n",
    "\n",
    "ax = sns.barplot(x = 0, y = 1, data = knndata)\n",
    "ax.set(xlabel='type', ylabel='occurrency')\n",
    "\n",
    "print(\"Correct: \", correct)\n",
    "print(\"False Positives: \", false_positives)\n",
    "print(\"False Negatives: \", false_negatives)\n",
    "\n",
    "plt.show()"
   ]
  },
  {
   "cell_type": "markdown",
   "metadata": {},
   "source": [
    "Taxa de erro:"
   ]
  },
  {
   "cell_type": "code",
   "execution_count": 29,
   "metadata": {},
   "outputs": [
    {
     "data": {
      "image/png": "[encoded data removed]",
      "text/plain": [
       "<Figure size 432x288 with 1 Axes>"
      ]
     },
     "metadata": {},
     "output_type": "display_data"
    }
   ],
   "source": [
    "dataorg = \"Correct, \" + str(correct) + \"\\nWrong, \" + str(false_positives + false_negatives)\n",
    "\n",
    "pizzadata = pd.read_csv(io.StringIO(dataorg), header=None)\n",
    "\n",
    "sizes = pizzadata.iloc[1], pizzadata.iloc[0]\n",
    "\n",
    "cs = [\"limegreen\", \"red\"]\n",
    "\n",
    "fig1, ax1 = plt.subplots()\n",
    "ax1.pie(pizzadata.iloc[:,1], labels=pizzadata.iloc[:,0], autopct='%1.1f%%', colors=cs)\n",
    "ax1.axis('equal')  # Equal aspect ratio ensures that pie is drawn as a circle.\n",
    "\n",
    "plt.show()"
   ]
  },
  {
   "cell_type": "markdown",
   "metadata": {},
   "source": [
    "### Árvore de decisão ###"
   ]
  },
  {
   "cell_type": "markdown",
   "metadata": {},
   "source": [
    "Usando os mesmos conjuntos de treinamento e teste."
   ]
  },
  {
   "cell_type": "code",
   "execution_count": 15,
   "metadata": {
    "scrolled": true
   },
   "outputs": [
    {
     "name": "stdout",
     "output_type": "stream",
     "text": [
      "Correct:  4328\n",
      "False Positives:  65\n",
      "False Negatives:  82\n"
     ]
    },
    {
     "data": {
      "image/png": "[encoded data removed]",
      "text/plain": [
       "<Figure size 432x288 with 1 Axes>"
      ]
     },
     "metadata": {},
     "output_type": "display_data"
    }
   ],
   "source": [
    "dtree = DecisionTreeClassifier()\n",
    "dtree.fit(train.iloc[:,0:7], train.iloc[:, 8])\n",
    "results = dtree.predict(test).tolist()\n",
    "\n",
    "false_positives=0\n",
    "false_negatives=0\n",
    "correct=0\n",
    "\n",
    "for i in range(len(results)):\n",
    "    if(results[i] == test_comparative.iloc[i, 8]):\n",
    "        correct += 1\n",
    "    elif(results[i] > test_comparative.iloc[i,8]):\n",
    "        false_positives += 1\n",
    "    else:\n",
    "        false_negatives += 1\n",
    "        \n",
    "dataorg = \"Correct, \" + str(correct) + \"\\nFalse Positives, \" + str(false_positives) + \"\\nFalse Negatives,\" + str(false_negatives)\n",
    "\n",
    "knndata = pd.read_csv(io.StringIO(dataorg), header=None)\n",
    "\n",
    "ax = sns.barplot(x = 0, y = 1, data = knndata)\n",
    "ax.set(xlabel='type', ylabel='occurrency')\n",
    "\n",
    "print(\"Correct: \", correct)\n",
    "print(\"False Positives: \", false_positives)\n",
    "print(\"False Negatives: \", false_negatives)\n",
    "\n",
    "plt.show()"
   ]
  },
  {
   "cell_type": "code",
   "execution_count": 17,
   "metadata": {},
   "outputs": [
    {
     "data": {
      "image/png": "[encoded data removed]",
      "text/plain": [
       "<Figure size 432x288 with 1 Axes>"
      ]
     },
     "metadata": {},
     "output_type": "display_data"
    }
   ],
   "source": [
    "dataorg = \"Correct, \" + str(correct) + \"\\nWrong, \" + str(false_positives + false_negatives)\n",
    "\n",
    "pizzadata = pd.read_csv(io.StringIO(dataorg), header=None)\n",
    "\n",
    "sizes = pizzadata.iloc[1], pizzadata.iloc[0]\n",
    "\n",
    "cs = [\"limegreen\", \"red\"]\n",
    "\n",
    "fig1, ax1 = plt.subplots()\n",
    "ax1.pie(pizzadata.iloc[:,1], labels=pizzadata.iloc[:,0], autopct='%1.1f%%', colors=cs)\n",
    "ax1.axis('equal')  # Equal aspect ratio ensures that pie is drawn as a circle.\n",
    "\n",
    "plt.show()"
   ]
  },
  {
   "cell_type": "markdown",
   "metadata": {},
   "source": [
    "### SVM###"
   ]
  },
  {
   "cell_type": "markdown",
   "metadata": {},
   "source": [
    "Usando também os mesmos conjuntos."
   ]
  },
  {
   "cell_type": "code",
   "execution_count": 19,
   "metadata": {
    "scrolled": true
   },
   "outputs": [
    {
     "name": "stdout",
     "output_type": "stream",
     "text": [
      "Correct:  4347\n",
      "False Positives:  11\n",
      "False Negatives:  117\n"
     ]
    },
    {
     "data": {
      "image/png": "[encoded data removed]",
      "text/plain": [
       "<Figure size 432x288 with 1 Axes>"
      ]
     },
     "metadata": {},
     "output_type": "display_data"
    }
   ],
   "source": [
    "svm = LinearSVC()\n",
    "svm.fit(train.iloc[:,0:7], train.iloc[:, 8])\n",
    "results = svm.predict(test).tolist()\n",
    "\n",
    "false_positives=0\n",
    "false_negatives=0\n",
    "correct=0\n",
    "\n",
    "for i in range(len(results)):\n",
    "    if(results[i] == test_comparative.iloc[i, 8]):\n",
    "        correct += 1\n",
    "    elif(results[i] > test_comparative.iloc[i,8]):\n",
    "        false_positives += 1\n",
    "    else:\n",
    "        false_negatives += 1\n",
    "        \n",
    "dataorg = \"Correct, \" + str(correct) + \"\\nFalse Positives, \" + str(false_positives) + \"\\nFalse Negatives,\" + str(false_negatives)\n",
    "\n",
    "knndata = pd.read_csv(io.StringIO(dataorg), header=None)\n",
    "\n",
    "ax = sns.barplot(x = 0, y = 1, data = knndata)\n",
    "ax.set(xlabel='type', ylabel='occurrency')\n",
    "\n",
    "print(\"Correct: \", correct)\n",
    "print(\"False Positives: \", false_positives)\n",
    "print(\"False Negatives: \", false_negatives)\n",
    "\n",
    "plt.show()"
   ]
  },
  {
   "cell_type": "code",
   "execution_count": 21,
   "metadata": {},
   "outputs": [
    {
     "data": {
      "image/png": "[encoded data removed]",
      "text/plain": [
       "<Figure size 432x288 with 1 Axes>"
      ]
     },
     "metadata": {},
     "output_type": "display_data"
    }
   ],
   "source": [
    "dataorg = \"Correct, \" + str(correct) + \"\\nWrong, \" + str(false_positives + false_negatives)\n",
    "\n",
    "pizzadata = pd.read_csv(io.StringIO(dataorg), header=None)\n",
    "\n",
    "sizes = pizzadata.iloc[1], pizzadata.iloc[0]\n",
    "\n",
    "cs = [\"limegreen\", \"red\"]\n",
    "\n",
    "fig1, ax1 = plt.subplots()\n",
    "ax1.pie(pizzadata.iloc[:,1], labels=pizzadata.iloc[:,0], autopct='%1.1f%%', colors=cs)\n",
    "ax1.axis('equal')  # Equal aspect ratio ensures that pie is drawn as a circle.\n",
    "\n",
    "plt.show()"
   ]
  },
  {
   "cell_type": "markdown",
   "metadata": {},
   "source": [
    "### Rede Neural ###"
   ]
  },
  {
   "cell_type": "code",
   "execution_count": 23,
   "metadata": {
    "scrolled": true
   },
   "outputs": [
    {
     "name": "stdout",
     "output_type": "stream",
     "text": [
      "Correct:  4362\n",
      "False Positives:  37\n",
      "False Negatives:  76\n"
     ]
    },
    {
     "data": {
      "image/png": "[encoded data removed]",
      "text/plain": [
       "<Figure size 432x288 with 1 Axes>"
      ]
     },
     "metadata": {},
     "output_type": "display_data"
    }
   ],
   "source": [
    "neural = MLPClassifier()\n",
    "neural.fit(train.iloc[:,0:7], train.iloc[:, 8])\n",
    "results = neural.predict(test).tolist()\n",
    "\n",
    "false_positives=0\n",
    "false_negatives=0\n",
    "correct=0\n",
    "\n",
    "for i in range(len(results)):\n",
    "    if(results[i] == test_comparative.iloc[i, 8]):\n",
    "        correct += 1\n",
    "    elif(results[i] > test_comparative.iloc[i,8]):\n",
    "        false_positives += 1\n",
    "    else:\n",
    "        false_negatives += 1\n",
    "        \n",
    "dataorg = \"Correct, \" + str(correct) + \"\\nFalse Positives, \" + str(false_positives) + \"\\nFalse Negatives,\" + str(false_negatives)\n",
    "\n",
    "knndata = pd.read_csv(io.StringIO(dataorg), header=None)\n",
    "\n",
    "ax = sns.barplot(x = 0, y = 1, data = knndata)\n",
    "ax.set(xlabel='type', ylabel='occurrency')\n",
    "\n",
    "print(\"Correct: \", correct)\n",
    "print(\"False Positives: \", false_positives)\n",
    "print(\"False Negatives: \", false_negatives)\n",
    "\n",
    "plt.show()"
   ]
  },
  {
   "cell_type": "code",
   "execution_count": 24,
   "metadata": {},
   "outputs": [
    {
     "data": {
      "image/png": "[encoded data removed]",
      "text/plain": [
       "<Figure size 432x288 with 1 Axes>"
      ]
     },
     "metadata": {},
     "output_type": "display_data"
    }
   ],
   "source": [
    "dataorg = \"Correct, \" + str(correct) + \"\\nWrong, \" + str(false_positives + false_negatives)\n",
    "\n",
    "pizzadata = pd.read_csv(io.StringIO(dataorg), header=None)\n",
    "\n",
    "sizes = pizzadata.iloc[1], pizzadata.iloc[0]\n",
    "\n",
    "cs = [\"limegreen\", \"red\"]\n",
    "\n",
    "fig1, ax1 = plt.subplots()\n",
    "ax1.pie(pizzadata.iloc[:,1], labels=pizzadata.iloc[:,0], autopct='%1.1f%%', colors=cs)\n",
    "ax1.axis('equal')  # Equal aspect ratio ensures that pie is drawn as a circle.\n",
    "\n",
    "plt.show()"
   ]
  },
  {
   "cell_type": "markdown",
   "metadata": {},
   "source": [
    "## Conclusão ##"
   ]
  },
  {
   "cell_type": "markdown",
   "metadata": {},
   "source": [
    "Por ordem de tempo, os métodos mais demorados foram:\n",
    "    1. Rede Neural\n",
    "    2. SVM\n",
    "    3. Árvore de Decisão\n",
    "    4. k-NN"
   ]
  },
  {
   "cell_type": "markdown",
   "metadata": {},
   "source": [
    "Os melhores resultados foram obtidos com redes neurais, com **97,5%** de acerto.\n",
    "\n",
    "Árvores de decisão apresentaram os piores resultados, com **96.7%** de acerto."
   ]
  },
  {
   "cell_type": "code",
   "execution_count": null,
   "metadata": {},
   "outputs": [],
   "source": []
  }
 ],
 "metadata": {
  "kernelspec": {
   "display_name": "Python 3",
   "language": "python",
   "name": "python3"
  },
  "language_info": {
   "codemirror_mode": {
    "name": "ipython",
    "version": 3
   },
   "file_extension": ".py",
   "mimetype": "text/x-python",
   "name": "python",
   "nbconvert_exporter": "python",
   "pygments_lexer": "ipython3",
   "version": "3.6.3"
  },
  "widgets": {
   "application/vnd.jupyter.widget-state+json": {
    "state": {},
    "version_major": 2,
    "version_minor": 0
   }
  }
 },
 "nbformat": 4,
 "nbformat_minor": 2
}
