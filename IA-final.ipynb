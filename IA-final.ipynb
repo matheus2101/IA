{
 "cells": [
  {
   "cell_type": "markdown",
   "metadata": {},
   "source": []
  },
  {
   "cell_type": "markdown",
   "metadata": {},
   "source": [
    "# Predição de Pulsares #"
   ]
  },
  {
   "cell_type": "markdown",
   "metadata": {},
   "source": [
    "Pulsares são estrelas de nêutros de um tipo específico, que emitem ondas de rádio detectáveis na Terra. \n",
    "\n",
    "São de alto interesse científico como provas de espaço-tempo, meio inter-estelar e estados da matéria."
   ]
  },
  {
   "cell_type": "markdown",
   "metadata": {},
   "source": [
    "## Base de dados ##"
   ]
  },
  {
   "cell_type": "markdown",
   "metadata": {},
   "source": [
    "A base de dados foi selecionada através do site kaggle (https://www.kaggle.com/pavanraj159/predicting-a-pulsar-star) e as seguintes bibliotecas foram usadas para a geração de gráficos e visualização de dados:"
   ]
  },
  {
   "cell_type": "code",
   "execution_count": 1,
   "metadata": {},
   "outputs": [],
   "source": [
    "from matplotlib import pyplot as plt\n",
    "from matplotlib import cm\n",
    "import numpy as np\n",
    "import pandas as pd\n",
    "import seaborn as sns\n",
    "import io"
   ]
  },
  {
   "cell_type": "markdown",
   "metadata": {},
   "source": [
    "A base de dados se apresenta da seguinte forma:"
   ]
  },
  {
   "cell_type": "code",
   "execution_count": 2,
   "metadata": {},
   "outputs": [
    {
     "data": {
      "text/html": [
       "<div>\n",
       "<style scoped>\n",
       "    .dataframe tbody tr th:only-of-type {\n",
       "        vertical-align: middle;\n",
       "    }\n",
       "\n",
       "    .dataframe tbody tr th {\n",
       "        vertical-align: top;\n",
       "    }\n",
       "\n",
       "    .dataframe thead th {\n",
       "        text-align: right;\n",
       "    }\n",
       "</style>\n",
       "<table border=\"1\" class=\"dataframe\">\n",
       "  <thead>\n",
       "    <tr style=\"text-align: right;\">\n",
       "      <th></th>\n",
       "      <th>Mean of the integrated profile</th>\n",
       "      <th>Standard deviation of the integrated profile</th>\n",
       "      <th>Excess kurtosis of the integrated profile</th>\n",
       "      <th>Skewness of the integrated profile</th>\n",
       "      <th>Mean of the DM-SNR curve</th>\n",
       "      <th>Standard deviation of the DM-SNR curve</th>\n",
       "      <th>Excess kurtosis of the DM-SNR curve</th>\n",
       "      <th>Skewness of the DM-SNR curve</th>\n",
       "      <th>target_class</th>\n",
       "    </tr>\n",
       "  </thead>\n",
       "  <tbody>\n",
       "    <tr>\n",
       "      <th>0</th>\n",
       "      <td>140.562500</td>\n",
       "      <td>55.683782</td>\n",
       "      <td>-0.234571</td>\n",
       "      <td>-0.699648</td>\n",
       "      <td>3.199833</td>\n",
       "      <td>19.110426</td>\n",
       "      <td>7.975532</td>\n",
       "      <td>74.242225</td>\n",
       "      <td>0</td>\n",
       "    </tr>\n",
       "    <tr>\n",
       "      <th>1</th>\n",
       "      <td>102.507812</td>\n",
       "      <td>58.882430</td>\n",
       "      <td>0.465318</td>\n",
       "      <td>-0.515088</td>\n",
       "      <td>1.677258</td>\n",
       "      <td>14.860146</td>\n",
       "      <td>10.576487</td>\n",
       "      <td>127.393580</td>\n",
       "      <td>0</td>\n",
       "    </tr>\n",
       "    <tr>\n",
       "      <th>2</th>\n",
       "      <td>103.015625</td>\n",
       "      <td>39.341649</td>\n",
       "      <td>0.323328</td>\n",
       "      <td>1.051164</td>\n",
       "      <td>3.121237</td>\n",
       "      <td>21.744669</td>\n",
       "      <td>7.735822</td>\n",
       "      <td>63.171909</td>\n",
       "      <td>0</td>\n",
       "    </tr>\n",
       "    <tr>\n",
       "      <th>3</th>\n",
       "      <td>136.750000</td>\n",
       "      <td>57.178449</td>\n",
       "      <td>-0.068415</td>\n",
       "      <td>-0.636238</td>\n",
       "      <td>3.642977</td>\n",
       "      <td>20.959280</td>\n",
       "      <td>6.896499</td>\n",
       "      <td>53.593661</td>\n",
       "      <td>0</td>\n",
       "    </tr>\n",
       "    <tr>\n",
       "      <th>4</th>\n",
       "      <td>88.726562</td>\n",
       "      <td>40.672225</td>\n",
       "      <td>0.600866</td>\n",
       "      <td>1.123492</td>\n",
       "      <td>1.178930</td>\n",
       "      <td>11.468720</td>\n",
       "      <td>14.269573</td>\n",
       "      <td>252.567306</td>\n",
       "      <td>0</td>\n",
       "    </tr>\n",
       "  </tbody>\n",
       "</table>\n",
       "</div>"
      ],
      "text/plain": [
       "    Mean of the integrated profile  \\\n",
       "0                       140.562500   \n",
       "1                       102.507812   \n",
       "2                       103.015625   \n",
       "3                       136.750000   \n",
       "4                        88.726562   \n",
       "\n",
       "    Standard deviation of the integrated profile  \\\n",
       "0                                      55.683782   \n",
       "1                                      58.882430   \n",
       "2                                      39.341649   \n",
       "3                                      57.178449   \n",
       "4                                      40.672225   \n",
       "\n",
       "    Excess kurtosis of the integrated profile  \\\n",
       "0                                   -0.234571   \n",
       "1                                    0.465318   \n",
       "2                                    0.323328   \n",
       "3                                   -0.068415   \n",
       "4                                    0.600866   \n",
       "\n",
       "    Skewness of the integrated profile   Mean of the DM-SNR curve  \\\n",
       "0                            -0.699648                   3.199833   \n",
       "1                            -0.515088                   1.677258   \n",
       "2                             1.051164                   3.121237   \n",
       "3                            -0.636238                   3.642977   \n",
       "4                             1.123492                   1.178930   \n",
       "\n",
       "    Standard deviation of the DM-SNR curve  \\\n",
       "0                                19.110426   \n",
       "1                                14.860146   \n",
       "2                                21.744669   \n",
       "3                                20.959280   \n",
       "4                                11.468720   \n",
       "\n",
       "    Excess kurtosis of the DM-SNR curve   Skewness of the DM-SNR curve  \\\n",
       "0                              7.975532                      74.242225   \n",
       "1                             10.576487                     127.393580   \n",
       "2                              7.735822                      63.171909   \n",
       "3                              6.896499                      53.593661   \n",
       "4                             14.269573                     252.567306   \n",
       "\n",
       "   target_class  \n",
       "0             0  \n",
       "1             0  \n",
       "2             0  \n",
       "3             0  \n",
       "4             0  "
      ]
     },
     "execution_count": 2,
     "metadata": {},
     "output_type": "execute_result"
    }
   ],
   "source": [
    "df = pd.read_csv(\"pulsar_stars.csv\")\n",
    "df.head()"
   ]
  },
  {
   "cell_type": "markdown",
   "metadata": {},
   "source": [
    "No total, são 17898 registros, onde a coluna target_class corresponde ao fato de ser ou não Pulsar e assume os valores 1 para sim e 0 para não. A proporção das duas classes é:"
   ]
  },
  {
   "cell_type": "code",
   "execution_count": 3,
   "metadata": {
    "scrolled": true
   },
   "outputs": [
    {
     "data": {
      "image/png": "[encoded data removed]",
      "text/plain": [
       "<Figure size 432x288 with 1 Axes>"
      ]
     },
     "metadata": {},
     "output_type": "display_data"
    }
   ],
   "source": [
    "values = df.groupby([\"target_class\"]).size()\n",
    "labels = \"Pulsar\", \"Non-pulsar\"\n",
    "sizes = values.iloc[1], values.iloc[0]\n",
    "\n",
    "cs = [\"burlywood\", \"royalblue\"]\n",
    "\n",
    "fig1, ax1 = plt.subplots()\n",
    "ax1.pie(sizes, labels=labels, autopct='%1.1f%%', colors=cs)\n",
    "ax1.axis('equal')  # Equal aspect ratio ensures that pie is drawn as a circle.\n",
    "\n",
    "plt.show()"
   ]
  },
  {
   "cell_type": "markdown",
   "metadata": {},
   "source": [
    "## IA para predição ##"
   ]
  },
  {
   "cell_type": "markdown",
   "metadata": {},
   "source": [
    "**Conjunto de testes:** subconjunto da base de dados, respeitando a proporcionalidade das classes </br>\n",
    "\n",
    "**Algoritmos:** k-NN, Árvore de decisão, SVM, Rede Neural\n",
    "\n",
    "**Bibliotecas:** a bilbioteca utilizada para os algoritmos de IA foi a scikit-learn\n",
    "\n",
    "\n",
    "*observação:* todos os métodos de aprendizado foram supervisionados"
   ]
  },
  {
   "cell_type": "code",
   "execution_count": 4,
   "metadata": {},
   "outputs": [],
   "source": [
    "from sklearn import model_selection\n",
    "\n",
    "from sklearn.neighbors import KNeighborsClassifier\n",
    "from sklearn.tree import DecisionTreeClassifier\n",
    "from sklearn.svm import LinearSVC\n",
    "from sklearn.neural_network import MLPClassifier"
   ]
  },
  {
   "cell_type": "markdown",
   "metadata": {},
   "source": [
    "## Aplicação dos métodos ##"
   ]
  },
  {
   "cell_type": "markdown",
   "metadata": {},
   "source": [
    "### k-NN ###"
   ]
  },
  {
   "cell_type": "markdown",
   "metadata": {},
   "source": [
    "Conjunto de treinamento:"
   ]
  },
  {
   "cell_type": "code",
   "execution_count": 5,
   "metadata": {},
   "outputs": [
    {
     "data": {
      "text/html": [
       "<div>\n",
       "<style scoped>\n",
       "    .dataframe tbody tr th:only-of-type {\n",
       "        vertical-align: middle;\n",
       "    }\n",
       "\n",
       "    .dataframe tbody tr th {\n",
       "        vertical-align: top;\n",
       "    }\n",
       "\n",
       "    .dataframe thead th {\n",
       "        text-align: right;\n",
       "    }\n",
       "</style>\n",
       "<table border=\"1\" class=\"dataframe\">\n",
       "  <thead>\n",
       "    <tr style=\"text-align: right;\">\n",
       "      <th></th>\n",
       "      <th>Mean of the integrated profile</th>\n",
       "      <th>Standard deviation of the integrated profile</th>\n",
       "      <th>Excess kurtosis of the integrated profile</th>\n",
       "      <th>Skewness of the integrated profile</th>\n",
       "      <th>Mean of the DM-SNR curve</th>\n",
       "      <th>Standard deviation of the DM-SNR curve</th>\n",
       "      <th>Excess kurtosis of the DM-SNR curve</th>\n",
       "      <th>Skewness of the DM-SNR curve</th>\n",
       "      <th>target_class</th>\n",
       "    </tr>\n",
       "  </thead>\n",
       "  <tbody>\n",
       "    <tr>\n",
       "      <th>13023</th>\n",
       "      <td>91.984375</td>\n",
       "      <td>43.819585</td>\n",
       "      <td>0.825235</td>\n",
       "      <td>1.962024</td>\n",
       "      <td>51.739130</td>\n",
       "      <td>90.868168</td>\n",
       "      <td>1.267812</td>\n",
       "      <td>-0.293070</td>\n",
       "      <td>1</td>\n",
       "    </tr>\n",
       "    <tr>\n",
       "      <th>6928</th>\n",
       "      <td>124.734375</td>\n",
       "      <td>51.153642</td>\n",
       "      <td>0.100039</td>\n",
       "      <td>-0.314652</td>\n",
       "      <td>2.203177</td>\n",
       "      <td>18.341010</td>\n",
       "      <td>9.637369</td>\n",
       "      <td>99.062508</td>\n",
       "      <td>0</td>\n",
       "    </tr>\n",
       "    <tr>\n",
       "      <th>5507</th>\n",
       "      <td>100.117188</td>\n",
       "      <td>50.344380</td>\n",
       "      <td>0.617981</td>\n",
       "      <td>0.357394</td>\n",
       "      <td>58.056856</td>\n",
       "      <td>81.174850</td>\n",
       "      <td>0.875828</td>\n",
       "      <td>-0.896677</td>\n",
       "      <td>0</td>\n",
       "    </tr>\n",
       "    <tr>\n",
       "      <th>1098</th>\n",
       "      <td>117.781250</td>\n",
       "      <td>48.838211</td>\n",
       "      <td>0.211258</td>\n",
       "      <td>-0.192519</td>\n",
       "      <td>2.673913</td>\n",
       "      <td>14.877730</td>\n",
       "      <td>8.940201</td>\n",
       "      <td>107.712152</td>\n",
       "      <td>0</td>\n",
       "    </tr>\n",
       "    <tr>\n",
       "      <th>12542</th>\n",
       "      <td>123.937500</td>\n",
       "      <td>38.866910</td>\n",
       "      <td>0.262160</td>\n",
       "      <td>0.717385</td>\n",
       "      <td>1.898829</td>\n",
       "      <td>12.260234</td>\n",
       "      <td>11.232226</td>\n",
       "      <td>176.708366</td>\n",
       "      <td>0</td>\n",
       "    </tr>\n",
       "  </tbody>\n",
       "</table>\n",
       "</div>"
      ],
      "text/plain": [
       "        Mean of the integrated profile  \\\n",
       "13023                        91.984375   \n",
       "6928                        124.734375   \n",
       "5507                        100.117188   \n",
       "1098                        117.781250   \n",
       "12542                       123.937500   \n",
       "\n",
       "        Standard deviation of the integrated profile  \\\n",
       "13023                                      43.819585   \n",
       "6928                                       51.153642   \n",
       "5507                                       50.344380   \n",
       "1098                                       48.838211   \n",
       "12542                                      38.866910   \n",
       "\n",
       "        Excess kurtosis of the integrated profile  \\\n",
       "13023                                    0.825235   \n",
       "6928                                     0.100039   \n",
       "5507                                     0.617981   \n",
       "1098                                     0.211258   \n",
       "12542                                    0.262160   \n",
       "\n",
       "        Skewness of the integrated profile   Mean of the DM-SNR curve  \\\n",
       "13023                             1.962024                  51.739130   \n",
       "6928                             -0.314652                   2.203177   \n",
       "5507                              0.357394                  58.056856   \n",
       "1098                             -0.192519                   2.673913   \n",
       "12542                             0.717385                   1.898829   \n",
       "\n",
       "        Standard deviation of the DM-SNR curve  \\\n",
       "13023                                90.868168   \n",
       "6928                                 18.341010   \n",
       "5507                                 81.174850   \n",
       "1098                                 14.877730   \n",
       "12542                                12.260234   \n",
       "\n",
       "        Excess kurtosis of the DM-SNR curve   Skewness of the DM-SNR curve  \\\n",
       "13023                              1.267812                      -0.293070   \n",
       "6928                               9.637369                      99.062508   \n",
       "5507                               0.875828                      -0.896677   \n",
       "1098                               8.940201                     107.712152   \n",
       "12542                             11.232226                     176.708366   \n",
       "\n",
       "       target_class  \n",
       "13023             1  \n",
       "6928              0  \n",
       "5507              0  \n",
       "1098              0  \n",
       "12542             0  "
      ]
     },
     "execution_count": 5,
     "metadata": {},
     "output_type": "execute_result"
    }
   ],
   "source": [
    "train, test_comparative = model_selection.train_test_split(df)\n",
    "train.head()"
   ]
  },
  {
   "cell_type": "markdown",
   "metadata": {},
   "source": [
    "Conjunto de teste (25% do tamanho do conjunto original):"
   ]
  },
  {
   "cell_type": "code",
   "execution_count": 6,
   "metadata": {},
   "outputs": [
    {
     "data": {
      "text/html": [
       "<div>\n",
       "<style scoped>\n",
       "    .dataframe tbody tr th:only-of-type {\n",
       "        vertical-align: middle;\n",
       "    }\n",
       "\n",
       "    .dataframe tbody tr th {\n",
       "        vertical-align: top;\n",
       "    }\n",
       "\n",
       "    .dataframe thead th {\n",
       "        text-align: right;\n",
       "    }\n",
       "</style>\n",
       "<table border=\"1\" class=\"dataframe\">\n",
       "  <thead>\n",
       "    <tr style=\"text-align: right;\">\n",
       "      <th></th>\n",
       "      <th>Mean of the integrated profile</th>\n",
       "      <th>Standard deviation of the integrated profile</th>\n",
       "      <th>Excess kurtosis of the integrated profile</th>\n",
       "      <th>Skewness of the integrated profile</th>\n",
       "      <th>Mean of the DM-SNR curve</th>\n",
       "      <th>Standard deviation of the DM-SNR curve</th>\n",
       "      <th>Excess kurtosis of the DM-SNR curve</th>\n",
       "      <th>Skewness of the DM-SNR curve</th>\n",
       "      <th>target_class</th>\n",
       "    </tr>\n",
       "  </thead>\n",
       "  <tbody>\n",
       "    <tr>\n",
       "      <th>9979</th>\n",
       "      <td>159.328125</td>\n",
       "      <td>55.451007</td>\n",
       "      <td>-0.696563</td>\n",
       "      <td>-0.088413</td>\n",
       "      <td>168.069398</td>\n",
       "      <td>82.069314</td>\n",
       "      <td>-0.888410</td>\n",
       "      <td>-0.576781</td>\n",
       "      <td>0</td>\n",
       "    </tr>\n",
       "    <tr>\n",
       "      <th>16427</th>\n",
       "      <td>122.250000</td>\n",
       "      <td>53.818416</td>\n",
       "      <td>0.110719</td>\n",
       "      <td>-0.368009</td>\n",
       "      <td>5.641304</td>\n",
       "      <td>29.784386</td>\n",
       "      <td>5.540915</td>\n",
       "      <td>30.763075</td>\n",
       "      <td>0</td>\n",
       "    </tr>\n",
       "    <tr>\n",
       "      <th>477</th>\n",
       "      <td>108.187500</td>\n",
       "      <td>46.968199</td>\n",
       "      <td>0.405374</td>\n",
       "      <td>0.217334</td>\n",
       "      <td>27.254181</td>\n",
       "      <td>61.769184</td>\n",
       "      <td>1.991531</td>\n",
       "      <td>2.333172</td>\n",
       "      <td>0</td>\n",
       "    </tr>\n",
       "    <tr>\n",
       "      <th>195</th>\n",
       "      <td>126.101562</td>\n",
       "      <td>52.567344</td>\n",
       "      <td>0.216220</td>\n",
       "      <td>-0.347581</td>\n",
       "      <td>23.096154</td>\n",
       "      <td>53.595116</td>\n",
       "      <td>2.296400</td>\n",
       "      <td>4.183569</td>\n",
       "      <td>0</td>\n",
       "    </tr>\n",
       "    <tr>\n",
       "      <th>13975</th>\n",
       "      <td>162.695312</td>\n",
       "      <td>53.864784</td>\n",
       "      <td>-0.862087</td>\n",
       "      <td>0.579207</td>\n",
       "      <td>121.202341</td>\n",
       "      <td>98.926593</td>\n",
       "      <td>-0.043851</td>\n",
       "      <td>-1.668201</td>\n",
       "      <td>0</td>\n",
       "    </tr>\n",
       "  </tbody>\n",
       "</table>\n",
       "</div>"
      ],
      "text/plain": [
       "        Mean of the integrated profile  \\\n",
       "9979                        159.328125   \n",
       "16427                       122.250000   \n",
       "477                         108.187500   \n",
       "195                         126.101562   \n",
       "13975                       162.695312   \n",
       "\n",
       "        Standard deviation of the integrated profile  \\\n",
       "9979                                       55.451007   \n",
       "16427                                      53.818416   \n",
       "477                                        46.968199   \n",
       "195                                        52.567344   \n",
       "13975                                      53.864784   \n",
       "\n",
       "        Excess kurtosis of the integrated profile  \\\n",
       "9979                                    -0.696563   \n",
       "16427                                    0.110719   \n",
       "477                                      0.405374   \n",
       "195                                      0.216220   \n",
       "13975                                   -0.862087   \n",
       "\n",
       "        Skewness of the integrated profile   Mean of the DM-SNR curve  \\\n",
       "9979                             -0.088413                 168.069398   \n",
       "16427                            -0.368009                   5.641304   \n",
       "477                               0.217334                  27.254181   \n",
       "195                              -0.347581                  23.096154   \n",
       "13975                             0.579207                 121.202341   \n",
       "\n",
       "        Standard deviation of the DM-SNR curve  \\\n",
       "9979                                 82.069314   \n",
       "16427                                29.784386   \n",
       "477                                  61.769184   \n",
       "195                                  53.595116   \n",
       "13975                                98.926593   \n",
       "\n",
       "        Excess kurtosis of the DM-SNR curve   Skewness of the DM-SNR curve  \\\n",
       "9979                              -0.888410                      -0.576781   \n",
       "16427                              5.540915                      30.763075   \n",
       "477                                1.991531                       2.333172   \n",
       "195                                2.296400                       4.183569   \n",
       "13975                             -0.043851                      -1.668201   \n",
       "\n",
       "       target_class  \n",
       "9979              0  \n",
       "16427             0  \n",
       "477               0  \n",
       "195               0  \n",
       "13975             0  "
      ]
     },
     "execution_count": 6,
     "metadata": {},
     "output_type": "execute_result"
    }
   ],
   "source": [
    "test_comparative.head()"
   ]
  },
  {
   "cell_type": "markdown",
   "metadata": {},
   "source": [
    "Conjunto de teste sem rótulo:"
   ]
  },
  {
   "cell_type": "code",
   "execution_count": 7,
   "metadata": {},
   "outputs": [
    {
     "data": {
      "text/html": [
       "<div>\n",
       "<style scoped>\n",
       "    .dataframe tbody tr th:only-of-type {\n",
       "        vertical-align: middle;\n",
       "    }\n",
       "\n",
       "    .dataframe tbody tr th {\n",
       "        vertical-align: top;\n",
       "    }\n",
       "\n",
       "    .dataframe thead th {\n",
       "        text-align: right;\n",
       "    }\n",
       "</style>\n",
       "<table border=\"1\" class=\"dataframe\">\n",
       "  <thead>\n",
       "    <tr style=\"text-align: right;\">\n",
       "      <th></th>\n",
       "      <th>Mean of the integrated profile</th>\n",
       "      <th>Standard deviation of the integrated profile</th>\n",
       "      <th>Excess kurtosis of the integrated profile</th>\n",
       "      <th>Skewness of the integrated profile</th>\n",
       "      <th>Mean of the DM-SNR curve</th>\n",
       "      <th>Standard deviation of the DM-SNR curve</th>\n",
       "      <th>Excess kurtosis of the DM-SNR curve</th>\n",
       "    </tr>\n",
       "  </thead>\n",
       "  <tbody>\n",
       "    <tr>\n",
       "      <th>9979</th>\n",
       "      <td>159.328125</td>\n",
       "      <td>55.451007</td>\n",
       "      <td>-0.696563</td>\n",
       "      <td>-0.088413</td>\n",
       "      <td>168.069398</td>\n",
       "      <td>82.069314</td>\n",
       "      <td>-0.888410</td>\n",
       "    </tr>\n",
       "    <tr>\n",
       "      <th>16427</th>\n",
       "      <td>122.250000</td>\n",
       "      <td>53.818416</td>\n",
       "      <td>0.110719</td>\n",
       "      <td>-0.368009</td>\n",
       "      <td>5.641304</td>\n",
       "      <td>29.784386</td>\n",
       "      <td>5.540915</td>\n",
       "    </tr>\n",
       "    <tr>\n",
       "      <th>477</th>\n",
       "      <td>108.187500</td>\n",
       "      <td>46.968199</td>\n",
       "      <td>0.405374</td>\n",
       "      <td>0.217334</td>\n",
       "      <td>27.254181</td>\n",
       "      <td>61.769184</td>\n",
       "      <td>1.991531</td>\n",
       "    </tr>\n",
       "    <tr>\n",
       "      <th>195</th>\n",
       "      <td>126.101562</td>\n",
       "      <td>52.567344</td>\n",
       "      <td>0.216220</td>\n",
       "      <td>-0.347581</td>\n",
       "      <td>23.096154</td>\n",
       "      <td>53.595116</td>\n",
       "      <td>2.296400</td>\n",
       "    </tr>\n",
       "    <tr>\n",
       "      <th>13975</th>\n",
       "      <td>162.695312</td>\n",
       "      <td>53.864784</td>\n",
       "      <td>-0.862087</td>\n",
       "      <td>0.579207</td>\n",
       "      <td>121.202341</td>\n",
       "      <td>98.926593</td>\n",
       "      <td>-0.043851</td>\n",
       "    </tr>\n",
       "  </tbody>\n",
       "</table>\n",
       "</div>"
      ],
      "text/plain": [
       "        Mean of the integrated profile  \\\n",
       "9979                        159.328125   \n",
       "16427                       122.250000   \n",
       "477                         108.187500   \n",
       "195                         126.101562   \n",
       "13975                       162.695312   \n",
       "\n",
       "        Standard deviation of the integrated profile  \\\n",
       "9979                                       55.451007   \n",
       "16427                                      53.818416   \n",
       "477                                        46.968199   \n",
       "195                                        52.567344   \n",
       "13975                                      53.864784   \n",
       "\n",
       "        Excess kurtosis of the integrated profile  \\\n",
       "9979                                    -0.696563   \n",
       "16427                                    0.110719   \n",
       "477                                      0.405374   \n",
       "195                                      0.216220   \n",
       "13975                                   -0.862087   \n",
       "\n",
       "        Skewness of the integrated profile   Mean of the DM-SNR curve  \\\n",
       "9979                             -0.088413                 168.069398   \n",
       "16427                            -0.368009                   5.641304   \n",
       "477                               0.217334                  27.254181   \n",
       "195                              -0.347581                  23.096154   \n",
       "13975                             0.579207                 121.202341   \n",
       "\n",
       "        Standard deviation of the DM-SNR curve  \\\n",
       "9979                                 82.069314   \n",
       "16427                                29.784386   \n",
       "477                                  61.769184   \n",
       "195                                  53.595116   \n",
       "13975                                98.926593   \n",
       "\n",
       "        Excess kurtosis of the DM-SNR curve  \n",
       "9979                              -0.888410  \n",
       "16427                              5.540915  \n",
       "477                                1.991531  \n",
       "195                                2.296400  \n",
       "13975                             -0.043851  "
      ]
     },
     "execution_count": 7,
     "metadata": {},
     "output_type": "execute_result"
    }
   ],
   "source": [
    "test = test_comparative.iloc[:, 0:7]\n",
    "test.head()"
   ]
  },
  {
   "cell_type": "markdown",
   "metadata": {},
   "source": [
    "Resultados:"
   ]
  },
  {
   "cell_type": "code",
   "execution_count": 8,
   "metadata": {
    "scrolled": true
   },
   "outputs": [
    {
     "name": "stdout",
     "output_type": "stream",
     "text": [
      "Correct Positives:  341\n",
      "Correct Negatives:  4028\n",
      "False Positives:  31\n",
      "False Negatives:  75\n"
     ]
    },
    {
     "data": {
      "image/png": "[encoded data removed]",
      "text/plain": [
       "<Figure size 432x288 with 1 Axes>"
      ]
     },
     "metadata": {},
     "output_type": "display_data"
    }
   ],
   "source": [
    "knn = KNeighborsClassifier(n_neighbors = 5)\n",
    "knn.fit(train.iloc[:,0:7], train.iloc[:, 8])\n",
    "results = knn.predict(test).tolist()\n",
    "\n",
    "false_positives=0\n",
    "false_negatives=0\n",
    "correct_p=0\n",
    "correct_n=0\n",
    "\n",
    "for i in range(len(results)):\n",
    "    if(results[i] == 1 and results[i] == test_comparative.iloc[i, 8]):\n",
    "        correct_p += 1\n",
    "    elif(results[i] == 0 and results[i] == test_comparative.iloc[i, 8]):\n",
    "        correct_n += 1\n",
    "    elif(results[i] > test_comparative.iloc[i,8]):\n",
    "        false_positives += 1\n",
    "    else:\n",
    "        false_negatives += 1\n",
    "        \n",
    "dataorg = \"Correct Positives, \" + str(correct_p) + \"\\nCorrect Negatives, \" + str(correct_n) + \"\\nFalse Positives, \" + str(false_positives) + \"\\nFalse Negatives,\" + str(false_negatives)\n",
    "\n",
    "knndata = pd.read_csv(io.StringIO(dataorg), header=None)\n",
    "\n",
    "ax = sns.barplot(x = 0, y = 1, data = knndata)\n",
    "ax.set(xlabel='type', ylabel='occurrency')\n",
    "\n",
    "print(\"Correct Positives: \", correct_p)\n",
    "print(\"Correct Negatives: \", correct_n)\n",
    "print(\"False Positives: \", false_positives)\n",
    "print(\"False Negatives: \", false_negatives)\n",
    "\n",
    "plt.show()"
   ]
  },
  {
   "cell_type": "markdown",
   "metadata": {},
   "source": [
    "Taxa de erro:"
   ]
  },
  {
   "cell_type": "code",
   "execution_count": 9,
   "metadata": {},
   "outputs": [
    {
     "data": {
      "image/png": "[encoded data removed]",
      "text/plain": [
       "<Figure size 432x288 with 1 Axes>"
      ]
     },
     "metadata": {},
     "output_type": "display_data"
    }
   ],
   "source": [
    "dataorg = \"Correct, \" + str(correct_p) + \"\\nWrong, \" + str(false_negatives)\n",
    "\n",
    "pizzadata = pd.read_csv(io.StringIO(dataorg), header=None)\n",
    "\n",
    "sizes = pizzadata.iloc[1], pizzadata.iloc[0]\n",
    "\n",
    "cs = [\"limegreen\", \"red\"]\n",
    "\n",
    "fig1, ax1 = plt.subplots()\n",
    "ax1.pie(pizzadata.iloc[:,1], labels=pizzadata.iloc[:,0], autopct='%1.1f%%', colors=cs)\n",
    "ax1.axis('equal')  # Equal aspect ratio ensures that pie is drawn as a circle.\n",
    "\n",
    "plt.show()"
   ]
  },
  {
   "cell_type": "markdown",
   "metadata": {},
   "source": [
    "### Árvore de decisão ###"
   ]
  },
  {
   "cell_type": "markdown",
   "metadata": {},
   "source": [
    "Usando os mesmos conjuntos de treinamento e teste."
   ]
  },
  {
   "cell_type": "code",
   "execution_count": 10,
   "metadata": {
    "scrolled": true
   },
   "outputs": [
    {
     "name": "stdout",
     "output_type": "stream",
     "text": [
      "Correct Positives:  353\n",
      "Correct Negatives:  4000\n",
      "False Positives:  59\n",
      "False Negatives:  63\n"
     ]
    },
    {
     "data": {
      "image/png": "[encoded data removed]",
      "text/plain": [
       "<Figure size 432x288 with 1 Axes>"
      ]
     },
     "metadata": {},
     "output_type": "display_data"
    }
   ],
   "source": [
    "dtree = DecisionTreeClassifier()\n",
    "dtree.fit(train.iloc[:,0:7], train.iloc[:, 8])\n",
    "results = dtree.predict(test).tolist()\n",
    "\n",
    "false_positives=0\n",
    "false_negatives=0\n",
    "correct_p=0\n",
    "correct_n=0\n",
    "\n",
    "for i in range(len(results)):\n",
    "    if(results[i] == 1 and results[i] == test_comparative.iloc[i, 8]):\n",
    "        correct_p += 1\n",
    "    elif(results[i] == 0 and results[i] == test_comparative.iloc[i, 8]):\n",
    "        correct_n += 1\n",
    "    elif(results[i] > test_comparative.iloc[i,8]):\n",
    "        false_positives += 1\n",
    "    else:\n",
    "        false_negatives += 1\n",
    "        \n",
    "dataorg = \"Correct Positives, \" + str(correct_p) + \"\\nCorrect Negatives, \" + str(correct_n) + \"\\nFalse Positives, \" + str(false_positives) + \"\\nFalse Negatives,\" + str(false_negatives)\n",
    "\n",
    "knndata = pd.read_csv(io.StringIO(dataorg), header=None)\n",
    "\n",
    "ax = sns.barplot(x = 0, y = 1, data = knndata)\n",
    "ax.set(xlabel='type', ylabel='occurrency')\n",
    "\n",
    "print(\"Correct Positives: \", correct_p)\n",
    "print(\"Correct Negatives: \", correct_n)\n",
    "print(\"False Positives: \", false_positives)\n",
    "print(\"False Negatives: \", false_negatives)\n",
    "\n",
    "plt.show()"
   ]
  },
  {
   "cell_type": "code",
   "execution_count": 11,
   "metadata": {},
   "outputs": [
    {
     "data": {
      "image/png": "[encoded data removed]",
      "text/plain": [
       "<Figure size 432x288 with 1 Axes>"
      ]
     },
     "metadata": {},
     "output_type": "display_data"
    }
   ],
   "source": [
    "dataorg = \"Correct, \" + str(correct_p) + \"\\nWrong, \" + str(false_negatives)\n",
    "\n",
    "pizzadata = pd.read_csv(io.StringIO(dataorg), header=None)\n",
    "\n",
    "sizes = pizzadata.iloc[1], pizzadata.iloc[0]\n",
    "\n",
    "cs = [\"limegreen\", \"red\"]\n",
    "\n",
    "fig1, ax1 = plt.subplots()\n",
    "ax1.pie(pizzadata.iloc[:,1], labels=pizzadata.iloc[:,0], autopct='%1.1f%%', colors=cs)\n",
    "ax1.axis('equal')  # Equal aspect ratio ensures that pie is drawn as a circle.\n",
    "\n",
    "plt.show()"
   ]
  },
  {
   "cell_type": "markdown",
   "metadata": {},
   "source": [
    "### SVM###"
   ]
  },
  {
   "cell_type": "markdown",
   "metadata": {},
   "source": [
    "Usando também os mesmos conjuntos."
   ]
  },
  {
   "cell_type": "code",
   "execution_count": 12,
   "metadata": {
    "scrolled": true
   },
   "outputs": [
    {
     "name": "stdout",
     "output_type": "stream",
     "text": [
      "Correct Positives:  363\n",
      "Correct Negatives:  4027\n",
      "False Positives:  32\n",
      "False Negatives:  53\n"
     ]
    },
    {
     "data": {
      "image/png": "[encoded data removed]",
      "text/plain": [
       "<Figure size 432x288 with 1 Axes>"
      ]
     },
     "metadata": {},
     "output_type": "display_data"
    }
   ],
   "source": [
    "svm = LinearSVC()\n",
    "svm.fit(train.iloc[:,0:7], train.iloc[:, 8])\n",
    "results = svm.predict(test).tolist()\n",
    "\n",
    "false_positives=0\n",
    "false_negatives=0\n",
    "correct_p=0\n",
    "correct_n=0\n",
    "\n",
    "for i in range(len(results)):\n",
    "    if(results[i] == 1 and results[i] == test_comparative.iloc[i, 8]):\n",
    "        correct_p += 1\n",
    "    elif(results[i] == 0 and results[i] == test_comparative.iloc[i, 8]):\n",
    "        correct_n += 1\n",
    "    elif(results[i] > test_comparative.iloc[i,8]):\n",
    "        false_positives += 1\n",
    "    else:\n",
    "        false_negatives += 1\n",
    "        \n",
    "dataorg = \"Correct Positives, \" + str(correct_p) + \"\\nCorrect Negatives, \" + str(correct_n) + \"\\nFalse Positives, \" + str(false_positives) + \"\\nFalse Negatives,\" + str(false_negatives)\n",
    "\n",
    "knndata = pd.read_csv(io.StringIO(dataorg), header=None)\n",
    "\n",
    "ax = sns.barplot(x = 0, y = 1, data = knndata)\n",
    "ax.set(xlabel='type', ylabel='occurrency')\n",
    "\n",
    "print(\"Correct Positives: \", correct_p)\n",
    "print(\"Correct Negatives: \", correct_n)\n",
    "print(\"False Positives: \", false_positives)\n",
    "print(\"False Negatives: \", false_negatives)\n",
    "\n",
    "plt.show()"
   ]
  },
  {
   "cell_type": "code",
   "execution_count": 13,
   "metadata": {},
   "outputs": [
    {
     "data": {
      "image/png": "[encoded data removed]",
      "text/plain": [
       "<Figure size 432x288 with 1 Axes>"
      ]
     },
     "metadata": {},
     "output_type": "display_data"
    }
   ],
   "source": [
    "dataorg = \"Correct, \" + str(correct_p) + \"\\nWrong, \" + str(false_negatives)\n",
    "\n",
    "pizzadata = pd.read_csv(io.StringIO(dataorg), header=None)\n",
    "\n",
    "sizes = pizzadata.iloc[1], pizzadata.iloc[0]\n",
    "\n",
    "cs = [\"limegreen\", \"red\"]\n",
    "\n",
    "fig1, ax1 = plt.subplots()\n",
    "ax1.pie(pizzadata.iloc[:,1], labels=pizzadata.iloc[:,0], autopct='%1.1f%%', colors=cs)\n",
    "ax1.axis('equal')  # Equal aspect ratio ensures that pie is drawn as a circle.\n",
    "\n",
    "plt.show()"
   ]
  },
  {
   "cell_type": "markdown",
   "metadata": {},
   "source": [
    "### Rede Neural ###"
   ]
  },
  {
   "cell_type": "code",
   "execution_count": 14,
   "metadata": {
    "scrolled": true
   },
   "outputs": [
    {
     "name": "stdout",
     "output_type": "stream",
     "text": [
      "Correct Positives:  352\n",
      "Correct Negatives:  4035\n",
      "False Positives:  24\n",
      "False Negatives:  64\n"
     ]
    },
    {
     "data": {
      "image/png": "[encoded data removed]",
      "text/plain": [
       "<Figure size 432x288 with 1 Axes>"
      ]
     },
     "metadata": {},
     "output_type": "display_data"
    }
   ],
   "source": [
    "neural = MLPClassifier()\n",
    "neural.fit(train.iloc[:,0:7], train.iloc[:, 8])\n",
    "results = neural.predict(test).tolist()\n",
    "\n",
    "false_positives=0\n",
    "false_negatives=0\n",
    "correct_p=0\n",
    "correct_n=0\n",
    "\n",
    "for i in range(len(results)):\n",
    "    if(results[i] == 1 and results[i] == test_comparative.iloc[i, 8]):\n",
    "        correct_p += 1\n",
    "    elif(results[i] == 0 and results[i] == test_comparative.iloc[i, 8]):\n",
    "        correct_n += 1\n",
    "    elif(results[i] > test_comparative.iloc[i,8]):\n",
    "        false_positives += 1\n",
    "    else:\n",
    "        false_negatives += 1\n",
    "        \n",
    "dataorg = \"Correct Positives, \" + str(correct_p) + \"\\nCorrect Negatives, \" + str(correct_n) + \"\\nFalse Positives, \" + str(false_positives) + \"\\nFalse Negatives,\" + str(false_negatives)\n",
    "\n",
    "knndata = pd.read_csv(io.StringIO(dataorg), header=None)\n",
    "\n",
    "ax = sns.barplot(x = 0, y = 1, data = knndata)\n",
    "ax.set(xlabel='type', ylabel='occurrency')\n",
    "\n",
    "print(\"Correct Positives: \", correct_p)\n",
    "print(\"Correct Negatives: \", correct_n)\n",
    "print(\"False Positives: \", false_positives)\n",
    "print(\"False Negatives: \", false_negatives)\n",
    "\n",
    "plt.show()"
   ]
  },
  {
   "cell_type": "code",
   "execution_count": 15,
   "metadata": {},
   "outputs": [
    {
     "data": {
      "image/png": "[encoded data removed]",
      "text/plain": [
       "<Figure size 432x288 with 1 Axes>"
      ]
     },
     "metadata": {},
     "output_type": "display_data"
    }
   ],
   "source": [
    "dataorg = \"Correct, \" + str(correct_p) + \"\\nWrong, \" + str(false_negatives)\n",
    "\n",
    "pizzadata = pd.read_csv(io.StringIO(dataorg), header=None)\n",
    "\n",
    "sizes = pizzadata.iloc[1], pizzadata.iloc[0]\n",
    "\n",
    "cs = [\"limegreen\", \"red\"]\n",
    "\n",
    "fig1, ax1 = plt.subplots()\n",
    "ax1.pie(pizzadata.iloc[:,1], labels=pizzadata.iloc[:,0], autopct='%1.1f%%', colors=cs)\n",
    "ax1.axis('equal')  # Equal aspect ratio ensures that pie is drawn as a circle.\n",
    "\n",
    "plt.show()"
   ]
  },
  {
   "cell_type": "markdown",
   "metadata": {},
   "source": [
    "## Conclusão ##"
   ]
  },
  {
   "cell_type": "markdown",
   "metadata": {},
   "source": [
    "Por ordem de tempo, os métodos mais demorados foram:\n",
    "    1. Rede Neural\n",
    "    2. SVM\n",
    "    3. Árvore de Decisão\n",
    "    4. k-NN"
   ]
  },
  {
   "cell_type": "markdown",
   "metadata": {},
   "source": [
    "Os melhores resultados foram obtidos com redes neurais, com **97,5%** de acerto.\n",
    "\n",
    "Árvores de decisão apresentaram os piores resultados, com **96.7%** de acerto."
   ]
  },
  {
   "cell_type": "code",
   "execution_count": null,
   "metadata": {},
   "outputs": [],
   "source": []
  }
 ],
 "metadata": {
  "kernelspec": {
   "display_name": "Python 3",
   "language": "python",
   "name": "python3"
  },
  "language_info": {
   "codemirror_mode": {
    "name": "ipython",
    "version": 3
   },
   "file_extension": ".py",
   "mimetype": "text/x-python",
   "name": "python",
   "nbconvert_exporter": "python",
   "pygments_lexer": "ipython3",
   "version": "3.6.3"
  },
  "widgets": {
   "application/vnd.jupyter.widget-state+json": {
    "state": {},
    "version_major": 2,
    "version_minor": 0
   }
  }
 },
 "nbformat": 4,
 "nbformat_minor": 2
}
